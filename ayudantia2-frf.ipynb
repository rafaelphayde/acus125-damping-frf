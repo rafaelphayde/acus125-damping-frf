{
 "cells": [
  {
   "cell_type": "code",
   "execution_count": 2,
   "metadata": {},
   "outputs": [],
   "source": [
    "import numpy as np\n",
    "import matplotlib.pyplot as plt"
   ]
  },
  {
   "cell_type": "markdown",
   "metadata": {},
   "source": [
    "<h1 style=\"text-align:center\">Casos de amortiguamiento y funciones de respuesta de frecuencia</h1>\n",
    "<h2 style=\"text-align:center\"> ACUS125: Aislamiento y Análisis de Vibraciones </h2>\n",
    "<h3 style=\"text-align:center\"> Primer semestre 2023 </h3>\n",
    "\n",
    "<p style=\"text-align:center\"> <b>Profesor </b></p>\n",
    "<p style=\"text-align:center\">Dr. Víctor Poblete R. <br>\n",
    "<a href=\"mailto:vpoblete@uach.cl\">vpoblete@uach.cl</a><br>\n",
    "\n",
    "<p style=\"text-align:center\"> <b>Ayudante </b></p>\n",
    "\n",
    "<p style=\"text-align:center\">Rafael Peñailillo H.<br>\n",
    "<a href=\"mailto:vpoblete@uach.cl\">rafael.penailillo@alumnos.uach.cl</a><br>"
   ]
  },
  {
   "cell_type": "markdown",
   "metadata": {},
   "source": [
    "## 1. Sistema masa resorte amortiguado"
   ]
  },
  {
   "cell_type": "markdown",
   "metadata": {},
   "source": [
    "<p style=\"text-align:center\">\n",
    "\t<img src=\"masa-resorte-amortiguador.png\" alt=\"MDOF\" width=25%/></a><br>\n",
    "    <strong> Figura 1: Diagrama de cuerpo libre</strong>\n",
    "</p>"
   ]
  },
  {
   "cell_type": "markdown",
   "metadata": {},
   "source": [
    "* De la Fig. 1 y usando la 2$^{a}$ ley de Newton:\n",
    "\\begin{align*}\n",
    "m\\ddot{x}(t)+c\\dot{x}(t)+kx(t) &= 0\n",
    "\\label{eq12}\\tag{1}\n",
    "\\end{align*}\n",
    "\n",
    "donde $m\\ddot{x}(t)$ es la fuerza inercial, $c\\dot{x}(t)$ el amortiguamiento viscoso y $kx(t)$ la fuerza elastica. Dividiendo por $m$:\n",
    "\n",
    "\\begin{align*}\n",
    "\\ddot{x}(t)+\\frac{c}{m}\\dot{x}(t)+\\omega_0^2(t) &= 0\n",
    "\\label{eq2}\\tag{2}\n",
    "\\end{align*}\n",
    "\n",
    "Definimos la razón de amortiguamiento como:\n",
    "\n",
    "\\begin{align}\n",
    "\\zeta&=\\frac{c}{2\\sqrt{km}}\n",
    "\\end{align}\n",
    "\n",
    "de la ec ([2](#mjx-eqn-eq2)) se reemplazaría:\n",
    "\n",
    "\\begin{align}\n",
    "\\frac{c}{m}=\\frac{2\\zeta\\sqrt{km}}{m}= 2\\zeta\\left(\\sqrt{\\frac{k}{m}}\\right)=2\\zeta\\omega_n\n",
    "\\end{align}\n",
    "\n",
    "resultando:\n",
    "\n",
    "\\begin{align}\n",
    "\\ddot{x}(t)+2\\zeta\\omega_0\\dot{x}(t)+\\omega_0^2x(t)=0\n",
    "\\label{eq3}\\tag{3}\n",
    "\\end{align}\n",
    "\n",
    "Una posible solución de ([2](#mjx-eqn-eq2)) es:\n",
    "\n",
    "\\begin{align}\n",
    "x(t)&=Ae^{\\alpha t}\n",
    "\\end{align}\n",
    "\n",
    "\\begin{align}\n",
    "\\dot{x}(t) & =\\alpha Ae^{\\alpha t}=\\alpha x(t)\n",
    "\\end{align}\n",
    "\n",
    "\\begin{align}\n",
    "\\ddot{x}(t)& =\\alpha^2 x(t)\n",
    "\\end{align}\n",
    "\n",
    "sustituyendo:\n",
    "\n",
    "\\begin{align}\n",
    "\\left[\\alpha^2+2\\zeta\\omega_0\\alpha+{\\omega_0}^2\\right] x(t)=0\n",
    "\\end{align}\n",
    "\n",
    "\\begin{align}\n",
    "\\alpha^2+2\\zeta\\omega_0\\alpha+{\\omega_0}^2=0\n",
    "\\end{align}\n",
    "\n",
    "\\begin{align}\n",
    "\\alpha=\\frac{-2\\zeta\\omega_0\\pm\\sqrt{(2\\zeta\\omega_0)^2-4\\omega_0^2}}{2}\n",
    "\\end{align}\n",
    "\n",
    "La ecuación caracteristica seria:"
   ]
  },
  {
   "cell_type": "markdown",
   "metadata": {},
   "source": [
    "\\begin{align}\n",
    "\\alpha=\\omega_0 \\left[-\\zeta\\pm \\sqrt{\\zeta^2-1}\\right]\n",
    "\\label{eq4}\\tag{4}\n",
    "\\end{align}"
   ]
  },
  {
   "cell_type": "markdown",
   "metadata": {},
   "source": [
    "## Actividad 1: Realizar demostración y gráfico de oscilación con los distintos tipos de amortiguación"
   ]
  },
  {
   "cell_type": "markdown",
   "metadata": {},
   "source": [
    "## Actividad 2: Implementar y graficar las funciones de repuesta de frecuencia\n",
    "Ver AN INTRODUCTION TO FREQUENCY RESPONSE FUNCTIONS - Tom Irvine (PDF en el canal `#material` en Discord)\n",
    "\n",
    "Se debe graficar para cada FRF (admitancia, movilidad  y acelerancia):\n",
    "- Función de transferencia\n",
    "- Fase\n",
    "- Parte imaginaria vs parte real"
   ]
  }
 ],
 "metadata": {
  "kernelspec": {
   "display_name": "Python 3 (ipykernel)",
   "language": "python",
   "name": "python3"
  },
  "language_info": {
   "codemirror_mode": {
    "name": "ipython",
    "version": 3
   },
   "file_extension": ".py",
   "mimetype": "text/x-python",
   "name": "python",
   "nbconvert_exporter": "python",
   "pygments_lexer": "ipython3",
   "version": "3.7.4"
  },
  "vscode": {
   "interpreter": {
    "hash": "5750e948a698dcda0683f28d8e44c71255fdada231661763addb64150f1d206b"
   }
  }
 },
 "nbformat": 4,
 "nbformat_minor": 2
}
